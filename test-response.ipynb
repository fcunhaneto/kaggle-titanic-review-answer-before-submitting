{
 "cells": [
  {
   "cell_type": "markdown",
   "id": "2ab532f4-0f2e-4319-9af9-1ec4d8900708",
   "metadata": {},
   "source": [
    "# Kaggle Titanic review your answer before submitting"
   ]
  },
  {
   "cell_type": "code",
   "id": "initial_id",
   "metadata": {
    "ExecuteTime": {
     "end_time": "2025-07-13T18:54:32.614303Z",
     "start_time": "2025-07-13T18:54:32.246823Z"
    }
   },
   "source": [
    "import pandas as pd\n",
    "import os\n",
    "from sklearn.metrics import confusion_matrix\n"
   ],
   "outputs": [],
   "execution_count": 1
  },
  {
   "cell_type": "code",
   "id": "c1494570a7eb49f0",
   "metadata": {
    "ExecuteTime": {
     "end_time": "2025-07-13T18:54:32.670149Z",
     "start_time": "2025-07-13T18:54:32.667968Z"
    }
   },
   "source": [
    "all_entries = os.listdir('datasets/testar')\n",
    "\n",
    "# Filter for only files\n",
    "file_names = [entry for entry in all_entries if os.path.isfile(os.path.join('datasets/testar', entry))]\n",
    "\n",
    "print(file_names)"
   ],
   "outputs": [
    {
     "name": "stdout",
     "output_type": "stream",
     "text": [
      "['adaboost-1.csv', 'knn-2.csv', 'bagging-classifer-com-radom-forest-1.csv', 'random-forest-2.csv', 'voting-classifier-1.csv', 'knn-1.csv', 'naive-bayes-gaussian-1.csv', 'voting-classifier-2.csv', 'svm-1.csv', 'linear-discriminant-2.csv', 'bagging-classifer-com-radom-forest-2.csv', 'decision-tree-1.csv', 'adaboost-2.csv', 'naive-bayes-gaussian-2.csv', 'random-forest-1.csv', 'decision-tree-2.csv', 'logistic-regression-1.csv', 'logistic-regression-2.csv', 'linear-discriminant-1.csv', 'svm-2.csv']\n"
     ]
    }
   ],
   "execution_count": 2
  },
  {
   "cell_type": "markdown",
   "id": "2e7fb6b81d7af72d",
   "metadata": {},
   "source": [
    "# Reading datasets"
   ]
  },
  {
   "cell_type": "code",
   "id": "d9f8f7fd40b2d398",
   "metadata": {
    "ExecuteTime": {
     "end_time": "2025-07-13T18:54:32.719Z",
     "start_time": "2025-07-13T18:54:32.716180Z"
    }
   },
   "source": "df1 = pd.read_csv('datasets/submission-answered.csv')",
   "outputs": [],
   "execution_count": 3
  },
  {
   "cell_type": "code",
   "id": "9ae749363a443e30",
   "metadata": {
    "ExecuteTime": {
     "end_time": "2025-07-13T18:54:32.787680Z",
     "start_time": "2025-07-13T18:54:32.759298Z"
    }
   },
   "source": [
    "names = []\n",
    "acuracy = []\n",
    "acertos = []\n",
    "erros = []\n",
    "\n",
    "for file in file_names:\n",
    "    name = file.split('.')[0]\n",
    "\n",
    "    arq= os.path.join('datasets/testar', file)\n",
    "    df2 = pd.read_csv(arq)\n",
    "\n",
    "    df = pd.merge(df1, df2, on='PassengerId')\n",
    "\n",
    "    result = df['Survived_x'] + df['Survived_y']\n",
    "    result = result.value_counts()\n",
    "\n",
    "    erro = result[1]\n",
    "    acerto = len(df) - erro\n",
    "    tn = result[0]\n",
    "    tp = result[2]\n",
    "\n",
    "\n",
    "    acuracia = (tn + tp)/len(df) * 100\n",
    "\n",
    "    names.append(name)\n",
    "    acuracy.append(round(acuracia,2))\n",
    "    acertos.append(round(acerto))\n",
    "    erros.append(erro)\n",
    "\n",
    "\n",
    "\n",
    "data = [names, acuracy, acertos, erros]\n"
   ],
   "outputs": [],
   "execution_count": 4
  },
  {
   "cell_type": "code",
   "id": "65e26d9ddf349872",
   "metadata": {
    "ExecuteTime": {
     "end_time": "2025-07-13T18:54:32.813596Z",
     "start_time": "2025-07-13T18:54:32.806108Z"
    }
   },
   "source": [
    "print(names)\n",
    "data = pd.DataFrame()\n",
    "data['Nome'] = names\n",
    "data['Acuracia %'] = acuracy\n",
    "data['Acertos'] = acertos\n",
    "data['Erro'] = erros\n",
    "\n",
    "data.sort_values(by='Acuracia %', ascending=False, inplace=True)\n",
    "data"
   ],
   "outputs": [
    {
     "name": "stdout",
     "output_type": "stream",
     "text": [
      "['adaboost-1', 'knn-2', 'bagging-classifer-com-radom-forest-1', 'random-forest-2', 'voting-classifier-1', 'knn-1', 'naive-bayes-gaussian-1', 'voting-classifier-2', 'svm-1', 'linear-discriminant-2', 'bagging-classifer-com-radom-forest-2', 'decision-tree-1', 'adaboost-2', 'naive-bayes-gaussian-2', 'random-forest-1', 'decision-tree-2', 'logistic-regression-1', 'logistic-regression-2', 'linear-discriminant-1', 'svm-2']\n"
     ]
    },
    {
     "data": {
      "text/plain": [
       "                                    Nome  Acuracia %  Acertos  Erro\n",
       "7                    voting-classifier-2       78.47      328    90\n",
       "4                    voting-classifier-1       78.47      328    90\n",
       "10  bagging-classifer-com-radom-forest-2       77.75      325    93\n",
       "9                  linear-discriminant-2       77.75      325    93\n",
       "2   bagging-classifer-com-radom-forest-1       77.51      324    94\n",
       "16                 logistic-regression-1       77.27      323    95\n",
       "19                                 svm-2       77.03      322    96\n",
       "8                                  svm-1       76.56      320    98\n",
       "3                        random-forest-2       76.56      320    98\n",
       "17                 logistic-regression-2       76.56      320    98\n",
       "14                       random-forest-1       76.32      319    99\n",
       "18                 linear-discriminant-1       76.08      318   100\n",
       "0                             adaboost-1       75.84      317   101\n",
       "15                       decision-tree-2       75.36      315   103\n",
       "6                 naive-bayes-gaussian-1       74.88      313   105\n",
       "12                            adaboost-2       74.40      311   107\n",
       "11                       decision-tree-1       71.29      298   120\n",
       "1                                  knn-2       65.79      275   143\n",
       "5                                  knn-1       64.11      268   150\n",
       "13                naive-bayes-gaussian-2       40.19      168   250"
      ],
      "text/html": [
       "<div>\n",
       "<style scoped>\n",
       "    .dataframe tbody tr th:only-of-type {\n",
       "        vertical-align: middle;\n",
       "    }\n",
       "\n",
       "    .dataframe tbody tr th {\n",
       "        vertical-align: top;\n",
       "    }\n",
       "\n",
       "    .dataframe thead th {\n",
       "        text-align: right;\n",
       "    }\n",
       "</style>\n",
       "<table border=\"1\" class=\"dataframe\">\n",
       "  <thead>\n",
       "    <tr style=\"text-align: right;\">\n",
       "      <th></th>\n",
       "      <th>Nome</th>\n",
       "      <th>Acuracia %</th>\n",
       "      <th>Acertos</th>\n",
       "      <th>Erro</th>\n",
       "    </tr>\n",
       "  </thead>\n",
       "  <tbody>\n",
       "    <tr>\n",
       "      <th>7</th>\n",
       "      <td>voting-classifier-2</td>\n",
       "      <td>78.47</td>\n",
       "      <td>328</td>\n",
       "      <td>90</td>\n",
       "    </tr>\n",
       "    <tr>\n",
       "      <th>4</th>\n",
       "      <td>voting-classifier-1</td>\n",
       "      <td>78.47</td>\n",
       "      <td>328</td>\n",
       "      <td>90</td>\n",
       "    </tr>\n",
       "    <tr>\n",
       "      <th>10</th>\n",
       "      <td>bagging-classifer-com-radom-forest-2</td>\n",
       "      <td>77.75</td>\n",
       "      <td>325</td>\n",
       "      <td>93</td>\n",
       "    </tr>\n",
       "    <tr>\n",
       "      <th>9</th>\n",
       "      <td>linear-discriminant-2</td>\n",
       "      <td>77.75</td>\n",
       "      <td>325</td>\n",
       "      <td>93</td>\n",
       "    </tr>\n",
       "    <tr>\n",
       "      <th>2</th>\n",
       "      <td>bagging-classifer-com-radom-forest-1</td>\n",
       "      <td>77.51</td>\n",
       "      <td>324</td>\n",
       "      <td>94</td>\n",
       "    </tr>\n",
       "    <tr>\n",
       "      <th>16</th>\n",
       "      <td>logistic-regression-1</td>\n",
       "      <td>77.27</td>\n",
       "      <td>323</td>\n",
       "      <td>95</td>\n",
       "    </tr>\n",
       "    <tr>\n",
       "      <th>19</th>\n",
       "      <td>svm-2</td>\n",
       "      <td>77.03</td>\n",
       "      <td>322</td>\n",
       "      <td>96</td>\n",
       "    </tr>\n",
       "    <tr>\n",
       "      <th>8</th>\n",
       "      <td>svm-1</td>\n",
       "      <td>76.56</td>\n",
       "      <td>320</td>\n",
       "      <td>98</td>\n",
       "    </tr>\n",
       "    <tr>\n",
       "      <th>3</th>\n",
       "      <td>random-forest-2</td>\n",
       "      <td>76.56</td>\n",
       "      <td>320</td>\n",
       "      <td>98</td>\n",
       "    </tr>\n",
       "    <tr>\n",
       "      <th>17</th>\n",
       "      <td>logistic-regression-2</td>\n",
       "      <td>76.56</td>\n",
       "      <td>320</td>\n",
       "      <td>98</td>\n",
       "    </tr>\n",
       "    <tr>\n",
       "      <th>14</th>\n",
       "      <td>random-forest-1</td>\n",
       "      <td>76.32</td>\n",
       "      <td>319</td>\n",
       "      <td>99</td>\n",
       "    </tr>\n",
       "    <tr>\n",
       "      <th>18</th>\n",
       "      <td>linear-discriminant-1</td>\n",
       "      <td>76.08</td>\n",
       "      <td>318</td>\n",
       "      <td>100</td>\n",
       "    </tr>\n",
       "    <tr>\n",
       "      <th>0</th>\n",
       "      <td>adaboost-1</td>\n",
       "      <td>75.84</td>\n",
       "      <td>317</td>\n",
       "      <td>101</td>\n",
       "    </tr>\n",
       "    <tr>\n",
       "      <th>15</th>\n",
       "      <td>decision-tree-2</td>\n",
       "      <td>75.36</td>\n",
       "      <td>315</td>\n",
       "      <td>103</td>\n",
       "    </tr>\n",
       "    <tr>\n",
       "      <th>6</th>\n",
       "      <td>naive-bayes-gaussian-1</td>\n",
       "      <td>74.88</td>\n",
       "      <td>313</td>\n",
       "      <td>105</td>\n",
       "    </tr>\n",
       "    <tr>\n",
       "      <th>12</th>\n",
       "      <td>adaboost-2</td>\n",
       "      <td>74.40</td>\n",
       "      <td>311</td>\n",
       "      <td>107</td>\n",
       "    </tr>\n",
       "    <tr>\n",
       "      <th>11</th>\n",
       "      <td>decision-tree-1</td>\n",
       "      <td>71.29</td>\n",
       "      <td>298</td>\n",
       "      <td>120</td>\n",
       "    </tr>\n",
       "    <tr>\n",
       "      <th>1</th>\n",
       "      <td>knn-2</td>\n",
       "      <td>65.79</td>\n",
       "      <td>275</td>\n",
       "      <td>143</td>\n",
       "    </tr>\n",
       "    <tr>\n",
       "      <th>5</th>\n",
       "      <td>knn-1</td>\n",
       "      <td>64.11</td>\n",
       "      <td>268</td>\n",
       "      <td>150</td>\n",
       "    </tr>\n",
       "    <tr>\n",
       "      <th>13</th>\n",
       "      <td>naive-bayes-gaussian-2</td>\n",
       "      <td>40.19</td>\n",
       "      <td>168</td>\n",
       "      <td>250</td>\n",
       "    </tr>\n",
       "  </tbody>\n",
       "</table>\n",
       "</div>"
      ]
     },
     "execution_count": 5,
     "metadata": {},
     "output_type": "execute_result"
    }
   ],
   "execution_count": 5
  },
  {
   "metadata": {
    "ExecuteTime": {
     "end_time": "2025-07-13T18:54:32.900889Z",
     "start_time": "2025-07-13T18:54:32.899822Z"
    }
   },
   "cell_type": "code",
   "source": "",
   "id": "e296556f2d89ec7c",
   "outputs": [],
   "execution_count": null
  }
 ],
 "metadata": {
  "kernelspec": {
   "display_name": "Python 3 (ipykernel)",
   "language": "python",
   "name": "python3"
  },
  "language_info": {
   "codemirror_mode": {
    "name": "ipython",
    "version": 3
   },
   "file_extension": ".py",
   "mimetype": "text/x-python",
   "name": "python",
   "nbconvert_exporter": "python",
   "pygments_lexer": "ipython3",
   "version": "3.12.11"
  }
 },
 "nbformat": 4,
 "nbformat_minor": 5
}
