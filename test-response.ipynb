{
 "cells": [
  {
   "cell_type": "markdown",
   "id": "2ab532f4-0f2e-4319-9af9-1ec4d8900708",
   "metadata": {},
   "source": [
    "# Kaggle Titanic review your answer before submitting"
   ]
  },
  {
   "cell_type": "code",
   "id": "initial_id",
   "metadata": {
    "ExecuteTime": {
     "end_time": "2025-07-09T22:54:59.998993Z",
     "start_time": "2025-07-09T22:54:59.407258Z"
    }
   },
   "source": [
    "import pandas as pd\n",
    "import matplotlib.pyplot as plt\n",
    "from sklearn.metrics import confusion_matrix, ConfusionMatrixDisplay\n",
    "\n",
    "# print(plt.style.available)"
   ],
   "outputs": [],
   "execution_count": 1
  },
  {
   "metadata": {
    "ExecuteTime": {
     "end_time": "2025-07-09T22:55:00.056832Z",
     "start_time": "2025-07-09T22:55:00.055376Z"
    }
   },
   "cell_type": "code",
   "source": "# plt.style.use('seaborn-v0_8')",
   "id": "c1494570a7eb49f0",
   "outputs": [],
   "execution_count": 2
  },
  {
   "cell_type": "markdown",
   "id": "2e7fb6b81d7af72d",
   "metadata": {},
   "source": [
    "# Reading datasets"
   ]
  },
  {
   "cell_type": "code",
   "id": "d9f8f7fd40b2d398",
   "metadata": {
    "ExecuteTime": {
     "end_time": "2025-07-09T22:55:00.104944Z",
     "start_time": "2025-07-09T22:55:00.101451Z"
    }
   },
   "source": [
    "df1 = pd.read_csv('datasets/submission-answered.csv')\n",
    "df2 = pd.read_csv('datasets/linear-discriminant-analysism.csv')"
   ],
   "outputs": [],
   "execution_count": 3
  },
  {
   "cell_type": "markdown",
   "id": "f3dab29498e33b47",
   "metadata": {},
   "source": [
    "# Renaming Columns in Your Response"
   ]
  },
  {
   "cell_type": "code",
   "id": "d54753d9521e7b37",
   "metadata": {
    "ExecuteTime": {
     "end_time": "2025-07-09T22:55:00.150463Z",
     "start_time": "2025-07-09T22:55:00.148919Z"
    }
   },
   "source": [
    "df2.columns = ['PassengerId', 'Survived_submit']"
   ],
   "outputs": [],
   "execution_count": 4
  },
  {
   "cell_type": "code",
   "id": "f9eb2a092a875f35",
   "metadata": {
    "ExecuteTime": {
     "end_time": "2025-07-09T22:55:00.198919Z",
     "start_time": "2025-07-09T22:55:00.194483Z"
    }
   },
   "source": [
    "df2.head()"
   ],
   "outputs": [
    {
     "data": {
      "text/plain": [
       "   PassengerId  Survived_submit\n",
       "0          892                0\n",
       "1          893                0\n",
       "2          894                0\n",
       "3          895                0\n",
       "4          896                1"
      ],
      "text/html": [
       "<div>\n",
       "<style scoped>\n",
       "    .dataframe tbody tr th:only-of-type {\n",
       "        vertical-align: middle;\n",
       "    }\n",
       "\n",
       "    .dataframe tbody tr th {\n",
       "        vertical-align: top;\n",
       "    }\n",
       "\n",
       "    .dataframe thead th {\n",
       "        text-align: right;\n",
       "    }\n",
       "</style>\n",
       "<table border=\"1\" class=\"dataframe\">\n",
       "  <thead>\n",
       "    <tr style=\"text-align: right;\">\n",
       "      <th></th>\n",
       "      <th>PassengerId</th>\n",
       "      <th>Survived_submit</th>\n",
       "    </tr>\n",
       "  </thead>\n",
       "  <tbody>\n",
       "    <tr>\n",
       "      <th>0</th>\n",
       "      <td>892</td>\n",
       "      <td>0</td>\n",
       "    </tr>\n",
       "    <tr>\n",
       "      <th>1</th>\n",
       "      <td>893</td>\n",
       "      <td>0</td>\n",
       "    </tr>\n",
       "    <tr>\n",
       "      <th>2</th>\n",
       "      <td>894</td>\n",
       "      <td>0</td>\n",
       "    </tr>\n",
       "    <tr>\n",
       "      <th>3</th>\n",
       "      <td>895</td>\n",
       "      <td>0</td>\n",
       "    </tr>\n",
       "    <tr>\n",
       "      <th>4</th>\n",
       "      <td>896</td>\n",
       "      <td>1</td>\n",
       "    </tr>\n",
       "  </tbody>\n",
       "</table>\n",
       "</div>"
      ]
     },
     "execution_count": 5,
     "metadata": {},
     "output_type": "execute_result"
    }
   ],
   "execution_count": 5
  },
  {
   "cell_type": "markdown",
   "id": "987bc3acfb5737a7",
   "metadata": {},
   "source": [
    "# Merging Submission with Answer (submission-answered.csv)"
   ]
  },
  {
   "cell_type": "code",
   "id": "f7731394d2c5a868",
   "metadata": {
    "ExecuteTime": {
     "end_time": "2025-07-09T22:55:00.260774Z",
     "start_time": "2025-07-09T22:55:00.256903Z"
    }
   },
   "source": [
    "df = pd.merge(df1, df2, on='PassengerId')\n",
    "df.head()"
   ],
   "outputs": [
    {
     "data": {
      "text/plain": [
       "   PassengerId  Survived  Survived_submit\n",
       "0          892         0                0\n",
       "1          893         1                0\n",
       "2          894         0                0\n",
       "3          895         0                0\n",
       "4          896         1                1"
      ],
      "text/html": [
       "<div>\n",
       "<style scoped>\n",
       "    .dataframe tbody tr th:only-of-type {\n",
       "        vertical-align: middle;\n",
       "    }\n",
       "\n",
       "    .dataframe tbody tr th {\n",
       "        vertical-align: top;\n",
       "    }\n",
       "\n",
       "    .dataframe thead th {\n",
       "        text-align: right;\n",
       "    }\n",
       "</style>\n",
       "<table border=\"1\" class=\"dataframe\">\n",
       "  <thead>\n",
       "    <tr style=\"text-align: right;\">\n",
       "      <th></th>\n",
       "      <th>PassengerId</th>\n",
       "      <th>Survived</th>\n",
       "      <th>Survived_submit</th>\n",
       "    </tr>\n",
       "  </thead>\n",
       "  <tbody>\n",
       "    <tr>\n",
       "      <th>0</th>\n",
       "      <td>892</td>\n",
       "      <td>0</td>\n",
       "      <td>0</td>\n",
       "    </tr>\n",
       "    <tr>\n",
       "      <th>1</th>\n",
       "      <td>893</td>\n",
       "      <td>1</td>\n",
       "      <td>0</td>\n",
       "    </tr>\n",
       "    <tr>\n",
       "      <th>2</th>\n",
       "      <td>894</td>\n",
       "      <td>0</td>\n",
       "      <td>0</td>\n",
       "    </tr>\n",
       "    <tr>\n",
       "      <th>3</th>\n",
       "      <td>895</td>\n",
       "      <td>0</td>\n",
       "      <td>0</td>\n",
       "    </tr>\n",
       "    <tr>\n",
       "      <th>4</th>\n",
       "      <td>896</td>\n",
       "      <td>1</td>\n",
       "      <td>1</td>\n",
       "    </tr>\n",
       "  </tbody>\n",
       "</table>\n",
       "</div>"
      ]
     },
     "execution_count": 6,
     "metadata": {},
     "output_type": "execute_result"
    }
   ],
   "execution_count": 6
  },
  {
   "cell_type": "markdown",
   "id": "e7d2507d97149a6",
   "metadata": {},
   "source": [
    "# Creating Results Column"
   ]
  },
  {
   "cell_type": "code",
   "id": "65e26d9ddf349872",
   "metadata": {
    "ExecuteTime": {
     "end_time": "2025-07-09T22:55:00.334147Z",
     "start_time": "2025-07-09T22:55:00.332156Z"
    }
   },
   "source": [
    "result = df['Survived'] + df['Survived_submit']\n",
    "result = result.value_counts()\n",
    "\n"
   ],
   "outputs": [],
   "execution_count": 7
  },
  {
   "cell_type": "markdown",
   "id": "d5184822161f6ae6",
   "metadata": {},
   "source": [
    "# Accuracy"
   ]
  },
  {
   "cell_type": "code",
   "id": "bdf3ed46847b78be",
   "metadata": {
    "ExecuteTime": {
     "end_time": "2025-07-09T22:55:00.386277Z",
     "start_time": "2025-07-09T22:55:00.384196Z"
    }
   },
   "source": [
    "erros = result[1]\n",
    "tn = result[0]\n",
    "tp = result[2]\n",
    "#\n",
    "acuracia = (tn + tp)/len(df)\n",
    "print(acuracia)"
   ],
   "outputs": [
    {
     "name": "stdout",
     "output_type": "stream",
     "text": [
      "0.7751196172248804\n"
     ]
    }
   ],
   "execution_count": 8
  },
  {
   "cell_type": "markdown",
   "id": "d674a50f-61a6-4151-8cd8-c18545ca2e7d",
   "metadata": {},
   "source": [
    "# Confusion Matrix"
   ]
  },
  {
   "cell_type": "code",
   "id": "6798a184c83e1441",
   "metadata": {
    "ExecuteTime": {
     "end_time": "2025-07-09T22:55:00.506841Z",
     "start_time": "2025-07-09T22:55:00.429888Z"
    }
   },
   "source": [
    "cm = confusion_matrix(df1['Survived'].values,  df['Survived_submit'].values)\n",
    "disp = ConfusionMatrixDisplay(confusion_matrix=cm, display_labels=['Died', 'Survived'])\n",
    "disp.plot()\n",
    "plt.show()"
   ],
   "outputs": [
    {
     "data": {
      "text/plain": [
       "<Figure size 640x480 with 2 Axes>"
      ],
      "image/png": "[encoded data removed]"
     },
     "metadata": {},
     "output_type": "display_data"
    }
   ],
   "execution_count": 9
  },
  {
   "cell_type": "code",
   "id": "4841caaeb73d48d3",
   "metadata": {
    "ExecuteTime": {
     "end_time": "2025-07-09T22:55:00.516035Z",
     "start_time": "2025-07-09T22:55:00.514846Z"
    }
   },
   "source": [],
   "outputs": [],
   "execution_count": null
  }
 ],
 "metadata": {
  "kernelspec": {
   "display_name": "Python 3 (ipykernel)",
   "language": "python",
   "name": "python3"
  },
  "language_info": {
   "codemirror_mode": {
    "name": "ipython",
    "version": 3
   },
   "file_extension": ".py",
   "mimetype": "text/x-python",
   "name": "python",
   "nbconvert_exporter": "python",
   "pygments_lexer": "ipython3",
   "version": "3.12.11"
  }
 },
 "nbformat": 4,
 "nbformat_minor": 5
}
