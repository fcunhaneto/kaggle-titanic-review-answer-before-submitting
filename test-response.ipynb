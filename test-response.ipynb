{
 "cells": [
  {
   "cell_type": "markdown",
   "id": "2ab532f4-0f2e-4319-9af9-1ec4d8900708",
   "metadata": {},
   "source": [
    "# Kaggle Titanic review your answer before submitting"
   ]
  },
  {
   "cell_type": "code",
   "id": "initial_id",
   "metadata": {
    "ExecuteTime": {
     "end_time": "2025-07-09T14:21:30.976568Z",
     "start_time": "2025-07-09T14:21:30.974748Z"
    }
   },
   "source": [
    "import pandas as pd\n",
    "import matplotlib.pyplot as plt\n",
    "from sklearn.metrics import confusion_matrix, ConfusionMatrixDisplay"
   ],
   "outputs": [],
   "execution_count": 17
  },
  {
   "cell_type": "markdown",
   "id": "2e7fb6b81d7af72d",
   "metadata": {},
   "source": [
    "# Reading datasets"
   ]
  },
  {
   "cell_type": "code",
   "id": "d9f8f7fd40b2d398",
   "metadata": {
    "ExecuteTime": {
     "end_time": "2025-07-09T14:21:31.076116Z",
     "start_time": "2025-07-09T14:21:31.073014Z"
    }
   },
   "source": [
    "df1 = pd.read_csv('datasets/submission-answered.csv')\n",
    "df2 = pd.read_csv('datasets/logistic-regression.csv')"
   ],
   "outputs": [],
   "execution_count": 18
  },
  {
   "cell_type": "markdown",
   "id": "f3dab29498e33b47",
   "metadata": {},
   "source": [
    "# Renaming Columns in Your Response"
   ]
  },
  {
   "cell_type": "code",
   "id": "d54753d9521e7b37",
   "metadata": {
    "ExecuteTime": {
     "end_time": "2025-07-09T14:21:31.122433Z",
     "start_time": "2025-07-09T14:21:31.120554Z"
    }
   },
   "source": [
    "df2.columns = ['PassengerId', 'Survived_submit']"
   ],
   "outputs": [],
   "execution_count": 19
  },
  {
   "cell_type": "code",
   "id": "f9eb2a092a875f35",
   "metadata": {
    "ExecuteTime": {
     "end_time": "2025-07-09T14:21:31.172510Z",
     "start_time": "2025-07-09T14:21:31.168560Z"
    }
   },
   "source": [
    "df2.head()"
   ],
   "outputs": [
    {
     "data": {
      "text/plain": [
       "   PassengerId  Survived_submit\n",
       "0          892              0.0\n",
       "1          893              0.0\n",
       "2          894              0.0\n",
       "3          895              0.0\n",
       "4          896              1.0"
      ],
      "text/html": [
       "<div>\n",
       "<style scoped>\n",
       "    .dataframe tbody tr th:only-of-type {\n",
       "        vertical-align: middle;\n",
       "    }\n",
       "\n",
       "    .dataframe tbody tr th {\n",
       "        vertical-align: top;\n",
       "    }\n",
       "\n",
       "    .dataframe thead th {\n",
       "        text-align: right;\n",
       "    }\n",
       "</style>\n",
       "<table border=\"1\" class=\"dataframe\">\n",
       "  <thead>\n",
       "    <tr style=\"text-align: right;\">\n",
       "      <th></th>\n",
       "      <th>PassengerId</th>\n",
       "      <th>Survived_submit</th>\n",
       "    </tr>\n",
       "  </thead>\n",
       "  <tbody>\n",
       "    <tr>\n",
       "      <th>0</th>\n",
       "      <td>892</td>\n",
       "      <td>0.0</td>\n",
       "    </tr>\n",
       "    <tr>\n",
       "      <th>1</th>\n",
       "      <td>893</td>\n",
       "      <td>0.0</td>\n",
       "    </tr>\n",
       "    <tr>\n",
       "      <th>2</th>\n",
       "      <td>894</td>\n",
       "      <td>0.0</td>\n",
       "    </tr>\n",
       "    <tr>\n",
       "      <th>3</th>\n",
       "      <td>895</td>\n",
       "      <td>0.0</td>\n",
       "    </tr>\n",
       "    <tr>\n",
       "      <th>4</th>\n",
       "      <td>896</td>\n",
       "      <td>1.0</td>\n",
       "    </tr>\n",
       "  </tbody>\n",
       "</table>\n",
       "</div>"
      ]
     },
     "execution_count": 20,
     "metadata": {},
     "output_type": "execute_result"
    }
   ],
   "execution_count": 20
  },
  {
   "cell_type": "markdown",
   "id": "987bc3acfb5737a7",
   "metadata": {},
   "source": [
    "# Merging Submission with Answer (submission-answered.csv)"
   ]
  },
  {
   "cell_type": "code",
   "id": "f7731394d2c5a868",
   "metadata": {
    "ExecuteTime": {
     "end_time": "2025-07-09T14:21:31.239079Z",
     "start_time": "2025-07-09T14:21:31.235122Z"
    }
   },
   "source": [
    "df = pd.merge(df1, df2, on='PassengerId')\n",
    "df.head()"
   ],
   "outputs": [
    {
     "data": {
      "text/plain": [
       "   PassengerId  Survived  Survived_submit\n",
       "0          892         0              0.0\n",
       "1          893         1              0.0\n",
       "2          894         0              0.0\n",
       "3          895         0              0.0\n",
       "4          896         1              1.0"
      ],
      "text/html": [
       "<div>\n",
       "<style scoped>\n",
       "    .dataframe tbody tr th:only-of-type {\n",
       "        vertical-align: middle;\n",
       "    }\n",
       "\n",
       "    .dataframe tbody tr th {\n",
       "        vertical-align: top;\n",
       "    }\n",
       "\n",
       "    .dataframe thead th {\n",
       "        text-align: right;\n",
       "    }\n",
       "</style>\n",
       "<table border=\"1\" class=\"dataframe\">\n",
       "  <thead>\n",
       "    <tr style=\"text-align: right;\">\n",
       "      <th></th>\n",
       "      <th>PassengerId</th>\n",
       "      <th>Survived</th>\n",
       "      <th>Survived_submit</th>\n",
       "    </tr>\n",
       "  </thead>\n",
       "  <tbody>\n",
       "    <tr>\n",
       "      <th>0</th>\n",
       "      <td>892</td>\n",
       "      <td>0</td>\n",
       "      <td>0.0</td>\n",
       "    </tr>\n",
       "    <tr>\n",
       "      <th>1</th>\n",
       "      <td>893</td>\n",
       "      <td>1</td>\n",
       "      <td>0.0</td>\n",
       "    </tr>\n",
       "    <tr>\n",
       "      <th>2</th>\n",
       "      <td>894</td>\n",
       "      <td>0</td>\n",
       "      <td>0.0</td>\n",
       "    </tr>\n",
       "    <tr>\n",
       "      <th>3</th>\n",
       "      <td>895</td>\n",
       "      <td>0</td>\n",
       "      <td>0.0</td>\n",
       "    </tr>\n",
       "    <tr>\n",
       "      <th>4</th>\n",
       "      <td>896</td>\n",
       "      <td>1</td>\n",
       "      <td>1.0</td>\n",
       "    </tr>\n",
       "  </tbody>\n",
       "</table>\n",
       "</div>"
      ]
     },
     "execution_count": 21,
     "metadata": {},
     "output_type": "execute_result"
    }
   ],
   "execution_count": 21
  },
  {
   "cell_type": "markdown",
   "id": "e7d2507d97149a6",
   "metadata": {},
   "source": [
    "# Creating Results Column"
   ]
  },
  {
   "cell_type": "code",
   "id": "65e26d9ddf349872",
   "metadata": {
    "ExecuteTime": {
     "end_time": "2025-07-09T14:21:31.356078Z",
     "start_time": "2025-07-09T14:21:31.353848Z"
    }
   },
   "source": [
    "df['Result'] = df['Survived'] + df['Survived_submit']\n",
    "result = df['Result'].value_counts()"
   ],
   "outputs": [],
   "execution_count": 22
  },
  {
   "cell_type": "markdown",
   "id": "d5184822161f6ae6",
   "metadata": {},
   "source": [
    "# Accuracy"
   ]
  },
  {
   "cell_type": "code",
   "id": "bdf3ed46847b78be",
   "metadata": {
    "ExecuteTime": {
     "end_time": "2025-07-09T14:21:31.413144Z",
     "start_time": "2025-07-09T14:21:31.410996Z"
    }
   },
   "source": [
    "erros = result[1]\n",
    "tn = result[0]\n",
    "tp = result[2]\n",
    "#\n",
    "acuracia = (tn + tp)/len(df)\n",
    "print(acuracia)"
   ],
   "outputs": [
    {
     "name": "stdout",
     "output_type": "stream",
     "text": [
      "0.7607655502392344\n"
     ]
    }
   ],
   "execution_count": 23
  },
  {
   "cell_type": "markdown",
   "id": "d674a50f-61a6-4151-8cd8-c18545ca2e7d",
   "metadata": {},
   "source": [
    "# Confusion Matrix"
   ]
  },
  {
   "cell_type": "code",
   "id": "6798a184c83e1441",
   "metadata": {
    "ExecuteTime": {
     "end_time": "2025-07-09T14:21:31.521129Z",
     "start_time": "2025-07-09T14:21:31.456083Z"
    }
   },
   "source": [
    "cm = confusion_matrix(df1['Survived'].values,  df['Survived_submit'].values)\n",
    "disp = ConfusionMatrixDisplay(confusion_matrix=cm, display_labels=['Died', 'Survived'])\n",
    "disp.plot()\n",
    "plt.show()"
   ],
   "outputs": [
    {
     "data": {
      "text/plain": [
       "<Figure size 640x480 with 2 Axes>"
      ],
      "image/png": "[encoded data removed]"
     },
     "metadata": {},
     "output_type": "display_data"
    }
   ],
   "execution_count": 24
  },
  {
   "cell_type": "code",
   "id": "4841caaeb73d48d3",
   "metadata": {
    "ExecuteTime": {
     "end_time": "2025-07-09T14:21:31.531816Z",
     "start_time": "2025-07-09T14:21:31.530615Z"
    }
   },
   "source": [],
   "outputs": [],
   "execution_count": null
  }
 ],
 "metadata": {
  "kernelspec": {
   "display_name": "Python 3 (ipykernel)",
   "language": "python",
   "name": "python3"
  },
  "language_info": {
   "codemirror_mode": {
    "name": "ipython",
    "version": 3
   },
   "file_extension": ".py",
   "mimetype": "text/x-python",
   "name": "python",
   "nbconvert_exporter": "python",
   "pygments_lexer": "ipython3",
   "version": "3.12.11"
  }
 },
 "nbformat": 4,
 "nbformat_minor": 5
}
